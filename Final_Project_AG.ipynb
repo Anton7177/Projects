{
 "cells": [
  {
   "cell_type": "code",
   "execution_count": 1,
   "metadata": {},
   "outputs": [],
   "source": [
    "import json\n",
    "import matplotlib.pyplot as plt\n",
    "import numpy as np\n",
    "import pandas as pd\n",
    "import requests\n",
    "import seaborn as sns\n",
    "from scipy.stats import chi2_contingency, norm, shapiro\n",
    "from tqdm.auto import tqdm\n",
    "from urllib.parse import urlencode\n",
    "\n",
    "plt.style.use('ggplot')"
   ]
  },
  {
   "cell_type": "markdown",
   "metadata": {},
   "source": [
    "# Задание 1. A/B–тестирование"
   ]
  },
  {
   "cell_type": "markdown",
   "metadata": {},
   "source": [
    "Условие\n",
    "\n",
    "Одной из основных задач аналитика в нашей команде является корректное проведение экспериментов. Для этого мы применяем метод A/B–тестирования. В ходе тестирования одной гипотезы целевой группе была предложена новая механика оплаты услуг на сайте, у контрольной группы оставалась базовая механика. В качестве задания Вам необходимо проанализировать итоги эксперимента и сделать вывод, стоит ли запускать новую механику оплаты на всех пользователей.\n",
    "\n",
    "\n",
    "groups.csv - файл с информацией о принадлежности пользователя к контрольной или экспериментальной группе (А – контроль, B – целевая группа) \n",
    "\n",
    "groups_add.csv - дополнительный файл с пользователями, который вам прислали спустя 2 дня после передачи данных\n",
    "\n",
    "active_studs.csv - файл с информацией о пользователях, которые зашли на платформу в дни проведения эксперимента. \n",
    "\n",
    "checks.csv - файл с информацией об оплатах пользователей в дни проведения эксперимента. "
   ]
  },
  {
   "cell_type": "code",
   "execution_count": 2,
   "metadata": {},
   "outputs": [],
   "source": [
    "# Function to get df by Link from Yandex Disk\n",
    "def get_ya_disk_df(url, sep):\n",
    "    \n",
    "    start_url = 'https://cloud-api.yandex.net/v1/disk/public/resources/download?'\n",
    "    full_url = start_url + urlencode(dict(public_key=url))\n",
    "    request = requests.get(full_url)\n",
    "    final_url = json.loads(request.text)['href']\n",
    "    \n",
    "    df = pd.read_csv(final_url, sep=sep)\n",
    "    return df"
   ]
  },
  {
   "cell_type": "code",
   "execution_count": 3,
   "metadata": {},
   "outputs": [],
   "source": [
    "# Загружаем файлы при помощи созданной функции\n",
    "groups = get_ya_disk_df(\"https://disk.yandex.ru/d/58Us0DWOzuWAjg\", sep=';')\n",
    "groups_add = get_ya_disk_df(\"https://disk.yandex.ru/d/3aARY-P9pfaksg\", sep=',')\n",
    "active_studs = get_ya_disk_df(\"https://disk.yandex.ru/d/prbgU-rZpiXVYg\", sep=';')\n",
    "checks = get_ya_disk_df(\"https://disk.yandex.ru/d/84hTmELphW2sqQ\", sep=';')"
   ]
  },
  {
   "cell_type": "code",
   "execution_count": 4,
   "metadata": {},
   "outputs": [
    {
     "data": {
      "text/html": [
       "<div>\n",
       "<style scoped>\n",
       "    .dataframe tbody tr th:only-of-type {\n",
       "        vertical-align: middle;\n",
       "    }\n",
       "\n",
       "    .dataframe tbody tr th {\n",
       "        vertical-align: top;\n",
       "    }\n",
       "\n",
       "    .dataframe thead th {\n",
       "        text-align: right;\n",
       "    }\n",
       "</style>\n",
       "<table border=\"1\" class=\"dataframe\">\n",
       "  <thead>\n",
       "    <tr style=\"text-align: right;\">\n",
       "      <th></th>\n",
       "      <th>id</th>\n",
       "      <th>grp</th>\n",
       "    </tr>\n",
       "  </thead>\n",
       "  <tbody>\n",
       "    <tr>\n",
       "      <th>0</th>\n",
       "      <td>1489</td>\n",
       "      <td>B</td>\n",
       "    </tr>\n",
       "    <tr>\n",
       "      <th>1</th>\n",
       "      <td>1627</td>\n",
       "      <td>A</td>\n",
       "    </tr>\n",
       "  </tbody>\n",
       "</table>\n",
       "</div>"
      ],
      "text/plain": [
       "     id grp\n",
       "0  1489   B\n",
       "1  1627   A"
      ]
     },
     "execution_count": 4,
     "metadata": {},
     "output_type": "execute_result"
    }
   ],
   "source": [
    "groups[:2]"
   ]
  },
  {
   "cell_type": "code",
   "execution_count": 5,
   "metadata": {},
   "outputs": [
    {
     "data": {
      "text/html": [
       "<div>\n",
       "<style scoped>\n",
       "    .dataframe tbody tr th:only-of-type {\n",
       "        vertical-align: middle;\n",
       "    }\n",
       "\n",
       "    .dataframe tbody tr th {\n",
       "        vertical-align: top;\n",
       "    }\n",
       "\n",
       "    .dataframe thead th {\n",
       "        text-align: right;\n",
       "    }\n",
       "</style>\n",
       "<table border=\"1\" class=\"dataframe\">\n",
       "  <thead>\n",
       "    <tr style=\"text-align: right;\">\n",
       "      <th></th>\n",
       "      <th>id</th>\n",
       "      <th>grp</th>\n",
       "    </tr>\n",
       "  </thead>\n",
       "  <tbody>\n",
       "    <tr>\n",
       "      <th>0</th>\n",
       "      <td>5694584</td>\n",
       "      <td>B</td>\n",
       "    </tr>\n",
       "    <tr>\n",
       "      <th>1</th>\n",
       "      <td>5694830</td>\n",
       "      <td>B</td>\n",
       "    </tr>\n",
       "  </tbody>\n",
       "</table>\n",
       "</div>"
      ],
      "text/plain": [
       "        id grp\n",
       "0  5694584   B\n",
       "1  5694830   B"
      ]
     },
     "execution_count": 5,
     "metadata": {},
     "output_type": "execute_result"
    }
   ],
   "source": [
    "groups_add[:2]"
   ]
  },
  {
   "cell_type": "code",
   "execution_count": 6,
   "metadata": {},
   "outputs": [
    {
     "data": {
      "text/html": [
       "<div>\n",
       "<style scoped>\n",
       "    .dataframe tbody tr th:only-of-type {\n",
       "        vertical-align: middle;\n",
       "    }\n",
       "\n",
       "    .dataframe tbody tr th {\n",
       "        vertical-align: top;\n",
       "    }\n",
       "\n",
       "    .dataframe thead th {\n",
       "        text-align: right;\n",
       "    }\n",
       "</style>\n",
       "<table border=\"1\" class=\"dataframe\">\n",
       "  <thead>\n",
       "    <tr style=\"text-align: right;\">\n",
       "      <th></th>\n",
       "      <th>student_id</th>\n",
       "    </tr>\n",
       "  </thead>\n",
       "  <tbody>\n",
       "    <tr>\n",
       "      <th>0</th>\n",
       "      <td>581585</td>\n",
       "    </tr>\n",
       "    <tr>\n",
       "      <th>1</th>\n",
       "      <td>5723133</td>\n",
       "    </tr>\n",
       "  </tbody>\n",
       "</table>\n",
       "</div>"
      ],
      "text/plain": [
       "   student_id\n",
       "0      581585\n",
       "1     5723133"
      ]
     },
     "execution_count": 6,
     "metadata": {},
     "output_type": "execute_result"
    }
   ],
   "source": [
    "active_studs[:2]"
   ]
  },
  {
   "cell_type": "code",
   "execution_count": 7,
   "metadata": {},
   "outputs": [
    {
     "data": {
      "text/html": [
       "<div>\n",
       "<style scoped>\n",
       "    .dataframe tbody tr th:only-of-type {\n",
       "        vertical-align: middle;\n",
       "    }\n",
       "\n",
       "    .dataframe tbody tr th {\n",
       "        vertical-align: top;\n",
       "    }\n",
       "\n",
       "    .dataframe thead th {\n",
       "        text-align: right;\n",
       "    }\n",
       "</style>\n",
       "<table border=\"1\" class=\"dataframe\">\n",
       "  <thead>\n",
       "    <tr style=\"text-align: right;\">\n",
       "      <th></th>\n",
       "      <th>student_id</th>\n",
       "      <th>rev</th>\n",
       "    </tr>\n",
       "  </thead>\n",
       "  <tbody>\n",
       "    <tr>\n",
       "      <th>0</th>\n",
       "      <td>1627</td>\n",
       "      <td>990.0</td>\n",
       "    </tr>\n",
       "    <tr>\n",
       "      <th>1</th>\n",
       "      <td>3185</td>\n",
       "      <td>690.0</td>\n",
       "    </tr>\n",
       "  </tbody>\n",
       "</table>\n",
       "</div>"
      ],
      "text/plain": [
       "   student_id    rev\n",
       "0        1627  990.0\n",
       "1        3185  690.0"
      ]
     },
     "execution_count": 7,
     "metadata": {},
     "output_type": "execute_result"
    }
   ],
   "source": [
    "checks[:2]"
   ]
  },
  {
   "cell_type": "code",
   "execution_count": 8,
   "metadata": {},
   "outputs": [],
   "source": [
    "# Rename id columns for merge\n",
    "active_studs.rename(columns={'student_id': 'id'}, inplace=True)\n",
    "checks.rename(columns={'student_id': 'id'}, inplace=True)"
   ]
  },
  {
   "cell_type": "markdown",
   "metadata": {},
   "source": [
    "<b>Вопросы</b>\n",
    "\n",
    "Предлагаем Вам ответить на следующие вопросы:\n",
    "\n",
    "На какие метрики Вы смотрите в ходе анализа и почему?\n",
    "Имеются ли различия в показателях и с чем они могут быть связаны?\n",
    "Являются ли эти различия статистически значимыми?\n",
    "Стоит ли запускать новую механику на всех пользователей?\n",
    "Данный список вопросов не является обязательным, и Вы можете при своём ответе опираться на собственный план."
   ]
  },
  {
   "cell_type": "markdown",
   "metadata": {},
   "source": [
    "# Проверка данных"
   ]
  },
  {
   "cell_type": "code",
   "execution_count": 9,
   "metadata": {},
   "outputs": [
    {
     "data": {
      "text/plain": [
       "(74484, 92, 8341, 541)"
      ]
     },
     "execution_count": 9,
     "metadata": {},
     "output_type": "execute_result"
    }
   ],
   "source": [
    "groups.id.shape[0], groups_add.id.shape[0], active_studs.id.shape[0], checks.id.shape[0]"
   ]
  },
  {
   "cell_type": "code",
   "execution_count": 10,
   "metadata": {},
   "outputs": [
    {
     "data": {
      "text/plain": [
       "392"
      ]
     },
     "execution_count": 10,
     "metadata": {},
     "output_type": "execute_result"
    }
   ],
   "source": [
    "# All checks in active_studs?\n",
    "\n",
    "checks[checks.id.isin(active_studs.id)].shape[0]"
   ]
  },
  {
   "cell_type": "markdown",
   "metadata": {},
   "source": [
    "Из 541 чека в активных пользователях оказались только 392.<br />\n",
    "Проверим, есть ли оставшиеся 149 id, сделавших покупки, в groups и groups_add\n",
    "\n",
    "<img src=\"https://www.storytourist.com/wp-content/uploads/2020/10/sherlock-holmes-4470682_1920-1.jpg\" width=\"400\" height=\"400\" />"
   ]
  },
  {
   "cell_type": "code",
   "execution_count": 11,
   "metadata": {},
   "outputs": [
    {
     "data": {
      "text/plain": [
       "(540, 1)"
      ]
     },
     "execution_count": 11,
     "metadata": {},
     "output_type": "execute_result"
    }
   ],
   "source": [
    "checks[checks.id.isin(groups.id)].shape[0], checks[checks.id.isin(groups_add.id)].shape[0]"
   ]
  },
  {
   "cell_type": "markdown",
   "metadata": {},
   "source": [
    "Чеки найдены! Ура!"
   ]
  },
  {
   "cell_type": "code",
   "execution_count": 12,
   "metadata": {},
   "outputs": [
    {
     "data": {
      "text/plain": [
       "(True, True, True, True)"
      ]
     },
     "execution_count": 12,
     "metadata": {},
     "output_type": "execute_result"
    }
   ],
   "source": [
    "# All ids unique or we've got duplicates?\n",
    "\n",
    "groups.id.is_unique, groups_add.id.is_unique, active_studs.id.is_unique, checks.id.is_unique"
   ]
  },
  {
   "cell_type": "markdown",
   "metadata": {},
   "source": [
    "Во всех таблицах нет дубликатов. Один id - одна активность, одна покупка в чеках\n",
    "\n",
    "Все id уникальны\n",
    "\n",
    "<img src=\"https://store.ubi.com/dw/image/v2/ABBS_PRD/on/demandware.static/-/Sites-masterCatalog/default/dw1b205326/images/large/56c4948888a7e300458b47de-3.jpg?sw=783&sh=440&sm=fit\" width=\"600\" height=\"600\" />"
   ]
  },
  {
   "cell_type": "code",
   "execution_count": 13,
   "metadata": {},
   "outputs": [
    {
     "data": {
      "text/plain": [
       "(id     0\n",
       " grp    0\n",
       " dtype: int64,\n",
       " id     0\n",
       " grp    0\n",
       " dtype: int64,\n",
       " id    0\n",
       " dtype: int64,\n",
       " id     0\n",
       " rev    0\n",
       " dtype: int64)"
      ]
     },
     "execution_count": 13,
     "metadata": {},
     "output_type": "execute_result"
    }
   ],
   "source": [
    "groups.isna().sum(), groups_add.isna().sum(), active_studs.isna().sum(), checks.isna().sum()"
   ]
  },
  {
   "cell_type": "markdown",
   "metadata": {},
   "source": [
    "Пропусков в данных также нет"
   ]
  },
  {
   "cell_type": "markdown",
   "metadata": {},
   "source": [
    "В groups_add всего 92 записи.<br />При бОльшем количестве можно было бы провести AA-тесты для проверки чистоты данных и отсутствии изменчивости по дням."
   ]
  },
  {
   "cell_type": "code",
   "execution_count": 14,
   "metadata": {},
   "outputs": [
    {
     "data": {
      "text/plain": [
       "True"
      ]
     },
     "execution_count": 14,
     "metadata": {},
     "output_type": "execute_result"
    }
   ],
   "source": [
    "# Merge groups and groups_add\n",
    "\n",
    "groups_full = groups.merge(groups_add, how='outer')\n",
    "\n",
    "# Check if we saved all ids\n",
    "groups.shape[0] + groups_add.shape[0] == groups_full.shape[0]"
   ]
  },
  {
   "cell_type": "code",
   "execution_count": 15,
   "metadata": {},
   "outputs": [
    {
     "data": {
      "text/html": [
       "<div>\n",
       "<style scoped>\n",
       "    .dataframe tbody tr th:only-of-type {\n",
       "        vertical-align: middle;\n",
       "    }\n",
       "\n",
       "    .dataframe tbody tr th {\n",
       "        vertical-align: top;\n",
       "    }\n",
       "\n",
       "    .dataframe thead th {\n",
       "        text-align: right;\n",
       "    }\n",
       "</style>\n",
       "<table border=\"1\" class=\"dataframe\">\n",
       "  <thead>\n",
       "    <tr style=\"text-align: right;\">\n",
       "      <th></th>\n",
       "      <th>id</th>\n",
       "      <th>grp</th>\n",
       "      <th>active</th>\n",
       "    </tr>\n",
       "  </thead>\n",
       "  <tbody>\n",
       "    <tr>\n",
       "      <th>0</th>\n",
       "      <td>1489</td>\n",
       "      <td>B</td>\n",
       "      <td>0.0</td>\n",
       "    </tr>\n",
       "    <tr>\n",
       "      <th>1</th>\n",
       "      <td>1627</td>\n",
       "      <td>A</td>\n",
       "      <td>1.0</td>\n",
       "    </tr>\n",
       "    <tr>\n",
       "      <th>2</th>\n",
       "      <td>1768</td>\n",
       "      <td>B</td>\n",
       "      <td>0.0</td>\n",
       "    </tr>\n",
       "    <tr>\n",
       "      <th>3</th>\n",
       "      <td>1783</td>\n",
       "      <td>B</td>\n",
       "      <td>0.0</td>\n",
       "    </tr>\n",
       "    <tr>\n",
       "      <th>4</th>\n",
       "      <td>1794</td>\n",
       "      <td>A</td>\n",
       "      <td>0.0</td>\n",
       "    </tr>\n",
       "  </tbody>\n",
       "</table>\n",
       "</div>"
      ],
      "text/plain": [
       "     id grp  active\n",
       "0  1489   B     0.0\n",
       "1  1627   A     1.0\n",
       "2  1768   B     0.0\n",
       "3  1783   B     0.0\n",
       "4  1794   A     0.0"
      ]
     },
     "execution_count": 15,
     "metadata": {},
     "output_type": "execute_result"
    }
   ],
   "source": [
    "# Mark active users.\n",
    "active_studs['active'] = 1\n",
    "\n",
    "# Merge groups with activity. Mark as 0 non-active users\n",
    "active_full = groups_full.merge(active_studs, how='left')\n",
    "active_full.active.fillna(0, inplace=True)\n",
    "active_full.head()"
   ]
  },
  {
   "cell_type": "code",
   "execution_count": 16,
   "metadata": {},
   "outputs": [
    {
     "data": {
      "text/html": [
       "<div>\n",
       "<style scoped>\n",
       "    .dataframe tbody tr th:only-of-type {\n",
       "        vertical-align: middle;\n",
       "    }\n",
       "\n",
       "    .dataframe tbody tr th {\n",
       "        vertical-align: top;\n",
       "    }\n",
       "\n",
       "    .dataframe thead th {\n",
       "        text-align: right;\n",
       "    }\n",
       "</style>\n",
       "<table border=\"1\" class=\"dataframe\">\n",
       "  <thead>\n",
       "    <tr style=\"text-align: right;\">\n",
       "      <th></th>\n",
       "      <th>id</th>\n",
       "      <th>active</th>\n",
       "    </tr>\n",
       "  </thead>\n",
       "  <tbody>\n",
       "  </tbody>\n",
       "</table>\n",
       "</div>"
      ],
      "text/plain": [
       "Empty DataFrame\n",
       "Columns: [id, active]\n",
       "Index: []"
      ]
     },
     "execution_count": 16,
     "metadata": {},
     "output_type": "execute_result"
    }
   ],
   "source": [
    "# Check if we've got all ids from active_studs. --> All\n",
    "active_studs[~active_studs.id.isin(active_full.id)]"
   ]
  },
  {
   "cell_type": "code",
   "execution_count": 17,
   "metadata": {},
   "outputs": [],
   "source": [
    "# Mark paying users\n",
    "checks['bought'] = 1\n",
    "\n",
    "# Merge groups with checks. Mark as 0 users with no purchases\n",
    "money_full = groups_full.merge(checks, how='left')\n",
    "money_full = money_full.merge(active_studs, how='left')\n",
    "money_full.active.fillna(0, inplace=True)"
   ]
  },
  {
   "cell_type": "code",
   "execution_count": 18,
   "metadata": {},
   "outputs": [
    {
     "data": {
      "text/html": [
       "<div>\n",
       "<style scoped>\n",
       "    .dataframe tbody tr th:only-of-type {\n",
       "        vertical-align: middle;\n",
       "    }\n",
       "\n",
       "    .dataframe tbody tr th {\n",
       "        vertical-align: top;\n",
       "    }\n",
       "\n",
       "    .dataframe thead th {\n",
       "        text-align: right;\n",
       "    }\n",
       "</style>\n",
       "<table border=\"1\" class=\"dataframe\">\n",
       "  <thead>\n",
       "    <tr style=\"text-align: right;\">\n",
       "      <th></th>\n",
       "      <th>id</th>\n",
       "      <th>rev</th>\n",
       "      <th>bought</th>\n",
       "    </tr>\n",
       "  </thead>\n",
       "  <tbody>\n",
       "  </tbody>\n",
       "</table>\n",
       "</div>"
      ],
      "text/plain": [
       "Empty DataFrame\n",
       "Columns: [id, rev, bought]\n",
       "Index: []"
      ]
     },
     "execution_count": 18,
     "metadata": {},
     "output_type": "execute_result"
    }
   ],
   "source": [
    "# All checks in money_full? --> Yep\n",
    "checks[~checks.id.isin(money_full.id)]"
   ]
  },
  {
   "cell_type": "markdown",
   "metadata": {},
   "source": [
    "# Какие метрики проверяем"
   ]
  },
  {
   "cell_type": "markdown",
   "metadata": {},
   "source": [
    "У нас есть 2 группы, информация об активности и чеках.\n",
    "\n",
    "Нас в первую очередь интересуют деньги<br/>\n",
    "Поэтому проверим, есть ли различия по группам в <b>ARPU и ARPPU</b>\n",
    "\n",
    "Также посмотрим на <b>конверсии <br />\n",
    "1) в активность<br />\n",
    "2) в покупку<br />\n",
    "3) из активности в покупку (хотя, как мы помним, в чеках есть экстра id, которых нет в таблице активности)</b>"
   ]
  },
  {
   "cell_type": "code",
   "execution_count": 19,
   "metadata": {},
   "outputs": [],
   "source": [
    "metrics = pd.DataFrame(columns=['total_users', 'active_users', 'paying_users', 'money',\n",
    "                       'ARPU', 'ARPPU', 'ARPAU', 'CR_activity', 'CR_purchase', 'CR_activity_purchase'],\n",
    "                       index=['A', 'B'])"
   ]
  },
  {
   "cell_type": "code",
   "execution_count": 20,
   "metadata": {},
   "outputs": [],
   "source": [
    "# Create metrics DF\n",
    "\n",
    "metrics['total_users'] = money_full.grp.value_counts()\n",
    "metrics['active_users'] = money_full.query('active == 1').grp.value_counts()\n",
    "metrics['paying_users'] = money_full.query('bought == 1').grp.value_counts()\n",
    "\n",
    "metrics['money'] = money_full.groupby('grp').rev.sum()\n",
    "metrics['ARPU'] = metrics['money'] / metrics['total_users']\n",
    "metrics['ARPPU'] = metrics['money'] / metrics['paying_users']\n",
    "metrics['ARPAU'] = metrics['money'] / metrics['active_users']\n",
    "\n",
    "metrics['CR_activity'] = metrics['active_users'] / metrics['total_users']\n",
    "metrics['CR_purchase'] = metrics['paying_users'] / metrics['total_users']\n",
    "metrics['CR_activity_purchase'] = metrics['paying_users'] / metrics['active_users']"
   ]
  },
  {
   "cell_type": "code",
   "execution_count": 21,
   "metadata": {},
   "outputs": [
    {
     "data": {
      "text/html": [
       "<div>\n",
       "<style scoped>\n",
       "    .dataframe tbody tr th:only-of-type {\n",
       "        vertical-align: middle;\n",
       "    }\n",
       "\n",
       "    .dataframe tbody tr th {\n",
       "        vertical-align: top;\n",
       "    }\n",
       "\n",
       "    .dataframe thead th {\n",
       "        text-align: right;\n",
       "    }\n",
       "</style>\n",
       "<table border=\"1\" class=\"dataframe\">\n",
       "  <thead>\n",
       "    <tr style=\"text-align: right;\">\n",
       "      <th></th>\n",
       "      <th>total_users</th>\n",
       "      <th>active_users</th>\n",
       "      <th>paying_users</th>\n",
       "      <th>money</th>\n",
       "      <th>ARPU</th>\n",
       "      <th>ARPPU</th>\n",
       "      <th>ARPAU</th>\n",
       "      <th>CR_activity</th>\n",
       "      <th>CR_purchase</th>\n",
       "      <th>CR_activity_purchase</th>\n",
       "    </tr>\n",
       "  </thead>\n",
       "  <tbody>\n",
       "    <tr>\n",
       "      <th>A</th>\n",
       "      <td>14693</td>\n",
       "      <td>1538</td>\n",
       "      <td>107</td>\n",
       "      <td>92096.0000</td>\n",
       "      <td>6.268019</td>\n",
       "      <td>860.710280</td>\n",
       "      <td>59.880364</td>\n",
       "      <td>0.104676</td>\n",
       "      <td>0.007282</td>\n",
       "      <td>0.069571</td>\n",
       "    </tr>\n",
       "    <tr>\n",
       "      <th>B</th>\n",
       "      <td>59883</td>\n",
       "      <td>6803</td>\n",
       "      <td>434</td>\n",
       "      <td>481230.0036</td>\n",
       "      <td>8.036171</td>\n",
       "      <td>1108.824893</td>\n",
       "      <td>70.737910</td>\n",
       "      <td>0.113605</td>\n",
       "      <td>0.007247</td>\n",
       "      <td>0.063795</td>\n",
       "    </tr>\n",
       "  </tbody>\n",
       "</table>\n",
       "</div>"
      ],
      "text/plain": [
       "   total_users  active_users  paying_users        money      ARPU  \\\n",
       "A        14693          1538           107   92096.0000  6.268019   \n",
       "B        59883          6803           434  481230.0036  8.036171   \n",
       "\n",
       "         ARPPU      ARPAU  CR_activity  CR_purchase  CR_activity_purchase  \n",
       "A   860.710280  59.880364     0.104676     0.007282              0.069571  \n",
       "B  1108.824893  70.737910     0.113605     0.007247              0.063795  "
      ]
     },
     "execution_count": 21,
     "metadata": {},
     "output_type": "execute_result"
    }
   ],
   "source": [
    "metrics"
   ]
  },
  {
   "cell_type": "code",
   "execution_count": 22,
   "metadata": {},
   "outputs": [],
   "source": [
    "# Check money distribution in groups A and B\n",
    "\n",
    "money_A = money_full.query('bought == 1 and grp==\"A\"')\n",
    "money_B = money_full.query('bought == 1 and grp==\"B\"')\n",
    "\n",
    "money_A_active = money_full.query('active == 1 and bought == 1 and grp==\"A\"')\n",
    "money_B_active = money_full.query('active == 1 and bought == 1 and grp==\"B\"')\n",
    "\n",
    "money_full_A = money_full.query('grp==\"A\"').fillna(0)\n",
    "money_full_B = money_full.query('grp==\"B\"').fillna(0)"
   ]
  },
  {
   "cell_type": "code",
   "execution_count": 23,
   "metadata": {},
   "outputs": [
    {
     "name": "stderr",
     "output_type": "stream",
     "text": [
      "/opt/tljh/user/lib/python3.7/site-packages/seaborn/distributions.py:2557: FutureWarning: `distplot` is a deprecated function and will be removed in a future version. Please adapt your code to use either `displot` (a figure-level function with similar flexibility) or `histplot` (an axes-level function for histograms).\n",
      "  warnings.warn(msg, FutureWarning)\n"
     ]
    },
    {
     "data": {
      "text/plain": [
       "<matplotlib.axes._subplots.AxesSubplot at 0x7f743f095d30>"
      ]
     },
     "execution_count": 23,
     "metadata": {},
     "output_type": "execute_result"
    },
    {
     "data": {
      "image/png": "[encoded data removed]",
      "text/plain": [
       "<Figure size 432x288 with 1 Axes>"
      ]
     },
     "metadata": {},
     "output_type": "display_data"
    }
   ],
   "source": [
    "# Check distribution. Quite not normal..\n",
    "\n",
    "sns.distplot(money_A.rev, kde=False)"
   ]
  },
  {
   "cell_type": "code",
   "execution_count": 24,
   "metadata": {},
   "outputs": [
    {
     "data": {
      "text/plain": [
       "<matplotlib.axes._subplots.AxesSubplot at 0x7f743eb26860>"
      ]
     },
     "execution_count": 24,
     "metadata": {},
     "output_type": "execute_result"
    },
    {
     "data": {
      "image/png": "[encoded data removed]",
      "text/plain": [
       "<Figure size 432x288 with 1 Axes>"
      ]
     },
     "metadata": {},
     "output_type": "display_data"
    }
   ],
   "source": [
    "sns.distplot(money_B.rev, kde=False)"
   ]
  },
  {
   "cell_type": "markdown",
   "metadata": {},
   "source": [
    "Ух сколько стало чеков по 2000!<br/>\n",
    "Целевой группе наверное предложили купить на 2000 для повышенного кэшбека (у Тинькофф-Яндекс Маркет как раз часто такое)\n",
    "\n",
    "<img src=\"https://images-na.ssl-images-amazon.com/images/S/pv-target-images/a5cbdc3935c156f6d776578593a2704be813053ea3348b54e29b218e2ea3f165._UY500_UX667_RI_V_TTW_.jpg\" width=\"600\" height=\"600\" />\n"
   ]
  },
  {
   "cell_type": "code",
   "execution_count": 25,
   "metadata": {},
   "outputs": [
    {
     "data": {
      "text/plain": [
       "(ShapiroResult(statistic=0.7196124196052551, pvalue=5.321687643507211e-13),\n",
       " ShapiroResult(statistic=0.8672363758087158, pvalue=8.947892893418603e-19))"
      ]
     },
     "execution_count": 25,
     "metadata": {},
     "output_type": "execute_result"
    }
   ],
   "source": [
    "# Check normality with Shapiro-Wilk test\n",
    "# p-value > 0.05 => normal distribution\n",
    "\n",
    "shapiro(money_A.rev), shapiro(money_B.rev)"
   ]
  },
  {
   "cell_type": "markdown",
   "metadata": {},
   "source": [
    "<img src=\"https://runsmartonline.com/articles/prevention/wp-content/uploads/2016/09/runsmart-youre-not-normal.jpg\" width=\"800\" height=\"800\" />"
   ]
  },
  {
   "cell_type": "code",
   "execution_count": 26,
   "metadata": {},
   "outputs": [
    {
     "data": {
      "text/plain": [
       "<matplotlib.axes._subplots.AxesSubplot at 0x7f743eab3b00>"
      ]
     },
     "execution_count": 26,
     "metadata": {},
     "output_type": "execute_result"
    },
    {
     "data": {
      "image/png": "[encoded data removed]",
      "text/plain": [
       "<Figure size 432x288 with 1 Axes>"
      ]
     },
     "metadata": {},
     "output_type": "display_data"
    }
   ],
   "source": [
    "#  Check outliers\n",
    "\n",
    "sns.boxplot(x=money_A['rev'])"
   ]
  },
  {
   "cell_type": "code",
   "execution_count": 27,
   "metadata": {},
   "outputs": [
    {
     "data": {
      "text/plain": [
       "<matplotlib.axes._subplots.AxesSubplot at 0x7f743ea1ec18>"
      ]
     },
     "execution_count": 27,
     "metadata": {},
     "output_type": "execute_result"
    },
    {
     "data": {
      "image/png": "[encoded data removed]",
      "text/plain": [
       "<Figure size 432x288 with 1 Axes>"
      ]
     },
     "metadata": {},
     "output_type": "display_data"
    }
   ],
   "source": [
    "sns.boxplot(x=money_B['rev'])"
   ]
  },
  {
   "cell_type": "markdown",
   "metadata": {},
   "source": [
    "Есть небольшие выбросы. Хвост не длинный, поэтому возьмем 1.5 межквартильного размаха"
   ]
  },
  {
   "cell_type": "code",
   "execution_count": 28,
   "metadata": {},
   "outputs": [
    {
     "data": {
      "text/plain": [
       "(199.0, 3660.0, (107,))"
      ]
     },
     "execution_count": 28,
     "metadata": {},
     "output_type": "execute_result"
    }
   ],
   "source": [
    "# Create duplicated DFs for following cleaning\n",
    "money_A_no_outliers = money_A.copy()\n",
    "money_B_no_outliers = money_B.copy()\n",
    "\n",
    "money_A_active_no_outliers = money_A_active.copy()\n",
    "money_B_active_no_outliers = money_B_active.copy()\n",
    "\n",
    "money_A.rev.min(), money_A.rev.max(), money_A.rev.shape"
   ]
  },
  {
   "cell_type": "code",
   "execution_count": 29,
   "metadata": {},
   "outputs": [],
   "source": [
    "def outlier(data, col):\n",
    "    Q1 = data[col].quantile(0.25)\n",
    "    Q3 = data[col].quantile(0.75)\n",
    "    IQR = Q3 - Q1\n",
    "    data = data.loc[~((data[col] < (Q1 - 1.5 * IQR)) | (data[col] > (Q3 + 1.5 * IQR))), ]\n",
    "    return data"
   ]
  },
  {
   "cell_type": "code",
   "execution_count": 30,
   "metadata": {},
   "outputs": [
    {
     "name": "stdout",
     "output_type": "stream",
     "text": [
      "Checks cleaned as outliers in - 10\n"
     ]
    }
   ],
   "source": [
    "money_A_no_outliers = outlier(money_A_no_outliers, 'rev')\n",
    "print(f'Checks cleaned as outliers in - {money_A.shape[0] - money_A_no_outliers.shape[0]}')"
   ]
  },
  {
   "cell_type": "code",
   "execution_count": 31,
   "metadata": {},
   "outputs": [
    {
     "name": "stdout",
     "output_type": "stream",
     "text": [
      "Checks cleaned as outliers in - 1\n"
     ]
    }
   ],
   "source": [
    "money_B_no_outliers = outlier(money_B_no_outliers, 'rev')\n",
    "print(f'Checks cleaned as outliers in - {money_B.shape[0] - money_B_no_outliers.shape[0]}')"
   ]
  },
  {
   "cell_type": "code",
   "execution_count": 32,
   "metadata": {},
   "outputs": [
    {
     "name": "stdout",
     "output_type": "stream",
     "text": [
      "Checks cleaned as outliers in - 9\n"
     ]
    }
   ],
   "source": [
    "money_A_active_no_outliers = outlier(money_A_active_no_outliers, 'rev')\n",
    "print(f'Checks cleaned as outliers in - {money_A_active.shape[0] - money_A_active_no_outliers.shape[0]}')"
   ]
  },
  {
   "cell_type": "code",
   "execution_count": 33,
   "metadata": {},
   "outputs": [
    {
     "name": "stdout",
     "output_type": "stream",
     "text": [
      "Checks cleaned as outliers in - 1\n"
     ]
    }
   ],
   "source": [
    "money_B_active_no_outliers = outlier(money_B_active_no_outliers, 'rev')\n",
    "print(f'Checks cleaned as outliers in - {money_B_active.shape[0] - money_B_active_no_outliers.shape[0]}')"
   ]
  },
  {
   "cell_type": "markdown",
   "metadata": {},
   "source": [
    "# H0 гипотезы ARPU // ARPPU:"
   ]
  },
  {
   "cell_type": "markdown",
   "metadata": {},
   "source": [
    "<b>В группах А и В ARPU и ARPPU не различаются стат значимо</b><br/>\n",
    "\n",
    "Так как распределения ненормальные, будем использовать бутстрап для оценки средних значений чеков"
   ]
  },
  {
   "cell_type": "code",
   "execution_count": 34,
   "metadata": {},
   "outputs": [
    {
     "data": {
      "text/plain": [
       "(6.268018784455183, 8.03617059265568)"
      ]
     },
     "execution_count": 34,
     "metadata": {},
     "output_type": "execute_result"
    }
   ],
   "source": [
    "# ARPU A and B\n",
    "money_full_A.rev.mean(), money_full_B.rev.mean()"
   ]
  },
  {
   "cell_type": "code",
   "execution_count": 35,
   "metadata": {},
   "outputs": [
    {
     "data": {
      "text/plain": [
       "(635.5257731958762, 1100.6466595842955)"
      ]
     },
     "execution_count": 35,
     "metadata": {},
     "output_type": "execute_result"
    }
   ],
   "source": [
    "# ARPPU\n",
    "money_A_no_outliers.rev.mean(), money_B_no_outliers.rev.mean()"
   ]
  },
  {
   "cell_type": "code",
   "execution_count": 36,
   "metadata": {},
   "outputs": [],
   "source": [
    "# Bootstrap function for ARPU/ARPPU\n",
    "\n",
    "def get_bootstrap(\n",
    "    data_column_1,                  # числовые значения первой выборки\n",
    "    data_column_2,                  # числовые значения второй выборки\n",
    "    boot_it=1000,                   # количество бутстрэп-подвыборок\n",
    "    statistic=np.mean,              # интересующая нас статистика\n",
    "    bootstrap_conf_level=0.95       # уровень значимости\n",
    "):\n",
    "    boot_len = max([len(data_column_1), len(data_column_2)])\n",
    "    boot_data = []\n",
    "    for i in tqdm(range(boot_it)):  # извлекаем подвыборки\n",
    "        samples_1 = data_column_1.sample(\n",
    "            boot_len, \n",
    "            replace=True            # параметр возвращения\n",
    "        ).values\n",
    "        \n",
    "        samples_2 = data_column_2.sample(\n",
    "            boot_len, \n",
    "            replace=True\n",
    "        ).values\n",
    "        \n",
    "        boot_data.append(statistic(samples_1) - statistic(samples_2))  # mean() - применяем статистику\n",
    "        \n",
    "    pd_boot_data = pd.DataFrame(boot_data)\n",
    "        \n",
    "    left_quant = (1 - bootstrap_conf_level) / 2\n",
    "    right_quant = 1 - (1 - bootstrap_conf_level) / 2\n",
    "    ci = pd_boot_data.quantile([left_quant, right_quant])\n",
    "        \n",
    "    p_1 = norm.cdf(\n",
    "        x=0, \n",
    "        loc=np.mean(boot_data), \n",
    "        scale=np.std(boot_data)\n",
    "    )\n",
    "    p_2 = norm.cdf(\n",
    "        x=0, \n",
    "        loc=-np.mean(boot_data), \n",
    "        scale=np.std(boot_data)\n",
    "    )\n",
    "    p_value = min(p_1, p_2) * 2\n",
    "        \n",
    "    # Визуализация\n",
    "    plt.hist(pd_boot_data[0], bins=50)\n",
    "    \n",
    "    plt.style.use('ggplot')\n",
    "    plt.vlines(ci, ymin=0, ymax=50, linestyle='--')\n",
    "    plt.xlabel('boot_data')\n",
    "    plt.ylabel('frequency')\n",
    "    plt.title(\"Histogram of boot_data\")\n",
    "    plt.show()\n",
    "       \n",
    "    return {\"boot_data\": boot_data, \n",
    "            \"ci\": ci, \n",
    "            \"p_value\": p_value}"
   ]
  },
  {
   "cell_type": "code",
   "execution_count": 37,
   "metadata": {},
   "outputs": [
    {
     "data": {
      "text/plain": [
       "(14693, 59883)"
      ]
     },
     "execution_count": 37,
     "metadata": {},
     "output_type": "execute_result"
    }
   ],
   "source": [
    "money_full_A.rev.shape[0], money_full_B.rev.shape[0]"
   ]
  },
  {
   "cell_type": "code",
   "execution_count": 38,
   "metadata": {},
   "outputs": [
    {
     "data": {
      "application/vnd.jupyter.widget-view+json": {
       "model_id": "12a297c620b6432db604c951b93fb140",
       "version_major": 2,
       "version_minor": 0
      },
      "text/plain": [
       "HBox(children=(FloatProgress(value=0.0, max=2000.0), HTML(value='')))"
      ]
     },
     "metadata": {},
     "output_type": "display_data"
    },
    {
     "name": "stdout",
     "output_type": "stream",
     "text": [
      "\n"
     ]
    },
    {
     "data": {
      "image/png": "[encoded data removed]",
      "text/plain": [
       "<Figure size 432x288 with 1 Axes>"
      ]
     },
     "metadata": {},
     "output_type": "display_data"
    },
    {
     "data": {
      "text/plain": [
       "0.004772910054359527"
      ]
     },
     "execution_count": 38,
     "metadata": {},
     "output_type": "execute_result"
    }
   ],
   "source": [
    "# Check ARPU with full data of users\n",
    "\n",
    "# в результате хранится разница двух распределений, ДИ и pvalue\n",
    "booted_data = get_bootstrap(money_full_A.rev, money_full_B.rev, boot_it=2000)\n",
    "booted_data[\"p_value\"]"
   ]
  },
  {
   "cell_type": "markdown",
   "metadata": {},
   "source": [
    "В ARPU обнаружена стат значимая разница (p-value < 0.05)\n",
    "\n",
    "Следовательно, отвергаем нулевую гипотезу, разница между средними чеками платящих пользователей стат.значима"
   ]
  },
  {
   "cell_type": "code",
   "execution_count": 39,
   "metadata": {},
   "outputs": [
    {
     "data": {
      "application/vnd.jupyter.widget-view+json": {
       "model_id": "2afbbf07701c4907a352c814639cb0f4",
       "version_major": 2,
       "version_minor": 0
      },
      "text/plain": [
       "HBox(children=(FloatProgress(value=0.0, max=2000.0), HTML(value='')))"
      ]
     },
     "metadata": {},
     "output_type": "display_data"
    },
    {
     "name": "stdout",
     "output_type": "stream",
     "text": [
      "\n"
     ]
    },
    {
     "data": {
      "image/png": "[encoded data removed]",
      "text/plain": [
       "<Figure size 432x288 with 1 Axes>"
      ]
     },
     "metadata": {},
     "output_type": "display_data"
    },
    {
     "data": {
      "text/plain": [
       "2.457026481395894e-31"
      ]
     },
     "execution_count": 39,
     "metadata": {},
     "output_type": "execute_result"
    }
   ],
   "source": [
    "# ARPAU\n",
    "\n",
    "booted_data = get_bootstrap(money_A_active_no_outliers.rev, money_B_active_no_outliers.rev, boot_it=2000)\n",
    "booted_data[\"p_value\"]"
   ]
  },
  {
   "cell_type": "code",
   "execution_count": 40,
   "metadata": {},
   "outputs": [
    {
     "data": {
      "application/vnd.jupyter.widget-view+json": {
       "model_id": "4bdb1049dec24928a679effb474cdc74",
       "version_major": 2,
       "version_minor": 0
      },
      "text/plain": [
       "HBox(children=(FloatProgress(value=0.0, max=2000.0), HTML(value='')))"
      ]
     },
     "metadata": {},
     "output_type": "display_data"
    },
    {
     "name": "stdout",
     "output_type": "stream",
     "text": [
      "\n"
     ]
    },
    {
     "data": {
      "image/png": "[encoded data removed]",
      "text/plain": [
       "<Figure size 432x288 with 1 Axes>"
      ]
     },
     "metadata": {},
     "output_type": "display_data"
    },
    {
     "data": {
      "text/plain": [
       "5.758204751284287e-31"
      ]
     },
     "execution_count": 40,
     "metadata": {},
     "output_type": "execute_result"
    }
   ],
   "source": [
    "# And check ARPPU\n",
    "\n",
    "booted_data = get_bootstrap(money_A_no_outliers.rev, money_B_no_outliers.rev, boot_it=2000)\n",
    "booted_data[\"p_value\"]"
   ]
  },
  {
   "cell_type": "markdown",
   "metadata": {},
   "source": [
    "Бутстрапом также обнаружена стат значимая разница ARPAU и ARPPU в контрольной и тестовой группе (p-value < 0.05)\n",
    "\n",
    "Средний чек группы В выше, нулевую гипотезу отклоняем для всех трех показателей"
   ]
  },
  {
   "cell_type": "markdown",
   "metadata": {},
   "source": [
    "<img src=\"https://qph.fs.quoracdn.net/main-qimg-b74fc57c4f52285f3e5e15cf2804c267-pjlq\" width=\"800\" height=\"800\" />"
   ]
  },
  {
   "cell_type": "markdown",
   "metadata": {},
   "source": [
    "# H0 гипотезы для конверсий:"
   ]
  },
  {
   "cell_type": "markdown",
   "metadata": {},
   "source": [
    "<b>H0 - конверсии в активность, в покупку и из активности в покупку в группах А и В одинковые</b>\n",
    "\n",
    "Проверять будем критерием хи-квадрат"
   ]
  },
  {
   "cell_type": "code",
   "execution_count": 41,
   "metadata": {},
   "outputs": [
    {
     "data": {
      "text/html": [
       "<div>\n",
       "<style scoped>\n",
       "    .dataframe tbody tr th:only-of-type {\n",
       "        vertical-align: middle;\n",
       "    }\n",
       "\n",
       "    .dataframe tbody tr th {\n",
       "        vertical-align: top;\n",
       "    }\n",
       "\n",
       "    .dataframe thead th {\n",
       "        text-align: right;\n",
       "    }\n",
       "</style>\n",
       "<table border=\"1\" class=\"dataframe\">\n",
       "  <thead>\n",
       "    <tr style=\"text-align: right;\">\n",
       "      <th></th>\n",
       "      <th>total_users</th>\n",
       "      <th>active_users</th>\n",
       "      <th>paying_users</th>\n",
       "      <th>money</th>\n",
       "      <th>ARPU</th>\n",
       "      <th>ARPPU</th>\n",
       "      <th>ARPAU</th>\n",
       "      <th>CR_activity</th>\n",
       "      <th>CR_purchase</th>\n",
       "      <th>CR_activity_purchase</th>\n",
       "    </tr>\n",
       "  </thead>\n",
       "  <tbody>\n",
       "    <tr>\n",
       "      <th>A</th>\n",
       "      <td>14693</td>\n",
       "      <td>1538</td>\n",
       "      <td>107</td>\n",
       "      <td>92096.0000</td>\n",
       "      <td>6.268019</td>\n",
       "      <td>860.710280</td>\n",
       "      <td>59.880364</td>\n",
       "      <td>0.104676</td>\n",
       "      <td>0.007282</td>\n",
       "      <td>0.069571</td>\n",
       "    </tr>\n",
       "    <tr>\n",
       "      <th>B</th>\n",
       "      <td>59883</td>\n",
       "      <td>6803</td>\n",
       "      <td>434</td>\n",
       "      <td>481230.0036</td>\n",
       "      <td>8.036171</td>\n",
       "      <td>1108.824893</td>\n",
       "      <td>70.737910</td>\n",
       "      <td>0.113605</td>\n",
       "      <td>0.007247</td>\n",
       "      <td>0.063795</td>\n",
       "    </tr>\n",
       "  </tbody>\n",
       "</table>\n",
       "</div>"
      ],
      "text/plain": [
       "   total_users  active_users  paying_users        money      ARPU  \\\n",
       "A        14693          1538           107   92096.0000  6.268019   \n",
       "B        59883          6803           434  481230.0036  8.036171   \n",
       "\n",
       "         ARPPU      ARPAU  CR_activity  CR_purchase  CR_activity_purchase  \n",
       "A   860.710280  59.880364     0.104676     0.007282              0.069571  \n",
       "B  1108.824893  70.737910     0.113605     0.007247              0.063795  "
      ]
     },
     "execution_count": 41,
     "metadata": {},
     "output_type": "execute_result"
    }
   ],
   "source": [
    "metrics"
   ]
  },
  {
   "cell_type": "code",
   "execution_count": 42,
   "metadata": {},
   "outputs": [],
   "source": [
    "# Create np-arrays for Chi-Squared test\n",
    "\n",
    "# CR_activity\n",
    "T_CR_act = np.array([[metrics.active_users[0], metrics.total_users[0]],\n",
    "                     [metrics.active_users[1], metrics.total_users[1]]])\n",
    "\n",
    "# CR_purchase\n",
    "T_CR_purch = np.array([[metrics.paying_users[0], metrics.total_users[0]],\n",
    "                       [metrics.paying_users[1], metrics.total_users[1]]])\n",
    "\n",
    "# CR_activity_purchase\n",
    "T_CR_act_purch = np.array([[metrics.paying_users[0], metrics.active_users[0]],\n",
    "                           [metrics.paying_users[1], metrics.active_users[1]]])"
   ]
  },
  {
   "cell_type": "code",
   "execution_count": 43,
   "metadata": {},
   "outputs": [
    {
     "name": "stdout",
     "output_type": "stream",
     "text": [
      "0.00583214228631432\n"
     ]
    }
   ],
   "source": [
    "# P-value CR_activity\n",
    "print(chi2_contingency(T_CR_act, correction=False)[1])"
   ]
  },
  {
   "cell_type": "code",
   "execution_count": 44,
   "metadata": {},
   "outputs": [
    {
     "name": "stdout",
     "output_type": "stream",
     "text": [
      "0.9646145344450162\n"
     ]
    }
   ],
   "source": [
    "# P-value CR_purchase\n",
    "print(chi2_contingency(T_CR_purch, correction=False)[1])"
   ]
  },
  {
   "cell_type": "code",
   "execution_count": 45,
   "metadata": {},
   "outputs": [
    {
     "name": "stdout",
     "output_type": "stream",
     "text": [
      "0.43714838107439424\n"
     ]
    }
   ],
   "source": [
    "# P-value CR_activity_purchase\n",
    "print(chi2_contingency(T_CR_act_purch, correction=False)[1])"
   ]
  },
  {
   "cell_type": "markdown",
   "metadata": {},
   "source": [
    "<b>Выводы:</b><br/>\n",
    "\n",
    "1. Конверсия в активность среди всех пользователей выросла стат.значимо. Отвергаем H0 для CR_activity\n",
    "2. Конверсия в покупку стат.значимо не отличается. Принимаем H0\n",
    "3. Конверсия из активности в покупку также не отличается стат.значимо. Принимаем H0.<br/>При том, что в группе А конверсия из активности в покупку выше, отсутствие стат.значимой разницы даже хорошо :)"
   ]
  },
  {
   "cell_type": "markdown",
   "metadata": {},
   "source": [
    "# ИТОГО"
   ]
  },
  {
   "cell_type": "markdown",
   "metadata": {},
   "source": [
    "Средние чеки в целевой группе стали выше, причем и ARPU, и ARPAU, и ARPPU<br/>\n",
    "Изменилась также конверсия в активность.<br/>\n",
    "Но нет существенных различий в конверсиях в покупку и из активности в покупку\n",
    "\n",
    "Стоит задаться вопросом, какая была цель данного A/B теста:<br/>\n",
    "1) Увеличить средний чек - тогда тест успешен<br/>\n",
    "2) Повлиять на конверсию - в этом случае поведение группы В не отличается от А (кроме активности)<br/>\n",
    "\n",
    "По итогам можно сказать,<br/>\n",
    "если экономика сходится (компания не тратит полученную разницу со средних чеков на кешбеки и привлечение), вариант группы В можно выкатывать на всех пользователей\n"
   ]
  },
  {
   "cell_type": "markdown",
   "metadata": {},
   "source": [
    "# Задание 2. SQL"
   ]
  },
  {
   "cell_type": "markdown",
   "metadata": {},
   "source": [
    "2.1 Очень усердные ученики.\n",
    "\n",
    "2.1.1 Условие\n",
    "\n",
    "Образовательные курсы состоят из различных уроков, каждый из которых состоит из нескольких маленьких заданий. Каждое такое маленькое задание называется \"горошиной\".\n",
    "\n",
    "Назовём очень усердным учеником того пользователя, который хотя бы раз за текущий месяц правильно решил 20 горошин за час.\n",
    "\n",
    "<b>Задание 2.1</b><br/>\n",
    "Необходимо написать оптимальный запрос, который даст информацию о количестве очень усердных студентов за март 2020 года.\n",
    "\n",
    "NB! Под усердным студентом мы понимаем студента, который правильно решил 20 задач за текущий месяц."
   ]
  },
  {
   "cell_type": "markdown",
   "metadata": {},
   "source": [
    "Таблица peas\n",
    "\n",
    "| Название атрибута      | Тип атрибута  | Смысловое значение                         |\n",
    "| :---                |    :----:   |          ---:                           |\n",
    "| st_id               | int         | ID ученика                                |\n",
    "| timest              | timestamp   | Время решения карточки                     |\n",
    "| correct             | bool        | Правильно ли решена горошина?               |\n",
    "| subject             | text        | Дисциплина, в которой находится горошина      |"
   ]
  },
  {
   "cell_type": "code",
   "execution_count": 46,
   "metadata": {},
   "outputs": [],
   "source": [
    "SQL_1 = \"\"\"\n",
    "    SELECT COUNT(DISTINCT st_id) AS Num_Diligent_Users\n",
    "    FROM\n",
    "    (\n",
    "        SELECT\n",
    "            st_id,\n",
    "            COUNT(*) AS peas_solved\n",
    "        FROM peas\n",
    "\n",
    "        WHERE correct = True\n",
    "          AND toMonth(timest) = 3\n",
    "          AND toYear(timest)  = 2020\n",
    "\n",
    "        GROUP BY st_id, date_trunc('hour', timest)\n",
    "        HAVING COUNT(*) > 20\n",
    "    )\n",
    "\"\"\""
   ]
  },
  {
   "cell_type": "markdown",
   "metadata": {},
   "source": [
    "<b>Задание 2.2 Оптимизация воронки</b>\n",
    "\n",
    "2.2.1 Условие\n",
    "\n",
    "Образовательная платформа предлагает пройти студентам курсы по модели trial: студент может решить бесплатно лишь 30 горошин в день. Для неограниченного количества заданий в определенной дисциплине студенту необходимо приобрести полный доступ. Команда провела эксперимент, где был протестирован новый экран оплаты.\n",
    "\n"
   ]
  },
  {
   "cell_type": "markdown",
   "metadata": {},
   "source": [
    "Таблица studs\n",
    "\n",
    "| Название атрибута      | Тип атрибута  | Смысловое значение                    |\n",
    "| :---                |    :----:   |          ---:                      |\n",
    "| st_id               | int         | ID ученика                           |\n",
    "| test_grp            | text        | Метка ученика в данном эксперименте      |"
   ]
  },
  {
   "cell_type": "markdown",
   "metadata": {},
   "source": [
    "Таблица checks\n",
    "\n",
    "| Название атрибута      | Тип атрибута  | Смысловое значение                               |\n",
    "| :---                |    :----:   |          ---:                                 |\n",
    "| st_id               | int         | ID ученика                                     |\n",
    "| sale_time           | timestamp   | Время покупки                                  |\n",
    "| money               | int         | Цена, по которой приобрели данный курс             |\n",
    "| subject             | text        | Дисциплина, на которую приобрели полный доступ      |"
   ]
  },
  {
   "cell_type": "markdown",
   "metadata": {},
   "source": [
    "<b>Необходимо в одном запросе выгрузить следующую информацию о группах пользователей:</b>\n",
    "\n",
    "ARPU, ARPAU, CR в покупку, СR активного пользователя в покупку, CR пользователя из активности по математике (subject = ’math’) в покупку курса по математике"
   ]
  },
  {
   "cell_type": "code",
   "execution_count": 47,
   "metadata": {},
   "outputs": [],
   "source": [
    "SQL_2 = \"\"\"\n",
    "    SELECT\n",
    "        test_grp,\n",
    "        sum(ch.money) / count(DISTINCT st.st_id)                                                AS ARPU,\n",
    "        sum(ch.money) / count(DISTINCT ch.st_id)                                                AS ARPAU,\n",
    "        count(DISTINCT ch.st_id) / count(DISTINCT st.st_id)                                     AS CR,\n",
    "        count(DISTINCT ch.st_id) / count(DISTINCT p.st_id)                                      AS CR_active,\n",
    "        count(DISTINCT CASE WHEN p.subject = 'math' AND ch.subject = 'math' THEN st.st_id END) \n",
    "        / count(DISTINCT CASE WHEN p.subject = 'math' THEN st.st_id END)                        AS CR_math\n",
    "    \n",
    "    FROM studs st                                                        -- all users\n",
    "    LEFT JOIN peas p                  ON st.st_id = p.st_id              -- active users\n",
    "    LEFT JOIN checks ch               ON st.st_id = ch.st_id             -- paying users\n",
    "    GROUP BY test_grp\n",
    "\n",
    "\"\"\""
   ]
  },
  {
   "cell_type": "markdown",
   "metadata": {},
   "source": [
    "# Задание 3. Python"
   ]
  },
  {
   "cell_type": "markdown",
   "metadata": {},
   "source": [
    "Реализуйте функцию, которая будет автоматически подгружать информацию из дополнительного файла groups_add.csv (заголовки могут отличаться) и на основании дополнительных параметров пересчитывать метрики.\n",
    "Реализуйте функцию, которая будет строить графики по получаемым метрикам."
   ]
  },
  {
   "cell_type": "code",
   "execution_count": 48,
   "metadata": {},
   "outputs": [],
   "source": [
    "# Adding data from groups_add to existing groups, active_studs and checks df.\n",
    "# Getting metrics data with added IDs\n",
    "\n",
    "def groups_add_df(groups, active_studs, checks, link, sep=','):\n",
    "\n",
    "    groups_add = get_ya_disk_df(link, sep)\n",
    "    \n",
    "    # Check columns and rename in case if needed   \n",
    "    for i in groups_add.columns:\n",
    "        if groups_add[i].dtype == 'int64':\n",
    "            groups_add[i].rename('id')\n",
    "            print(f\"column {i} is id column\\n\")\n",
    "        else:\n",
    "            print(f\"column {i} is not id column\\n\")\n",
    "            \n",
    "        if set(groups_add[i].to_list()).issubset(['A', 'B']):\n",
    "            groups_add[i].rename('grp')\n",
    "            print(f\"column {i} is grp column\\n\")\n",
    "        else:\n",
    "            print(f\"column {i} is not grp column\\n\")\n",
    "    \n",
    "    active_studs['active'] = 1\n",
    "    checks['bought'] = 1\n",
    "    \n",
    "    # Merge groups and groups_add\n",
    "    groups_full = groups.merge(groups_add, how='outer')\n",
    "    # Rename id columns for merge in case if there is difference (student_id)\n",
    "    active_studs.rename(columns={'student_id': 'id'}, inplace=True)\n",
    "    checks.rename(columns={'student_id': 'id'}, inplace=True)\n",
    "\n",
    "    # Merge groups with activity. Marked 0 are non-active users\n",
    "    active_full = groups_full.merge(active_studs, how='left')\n",
    "    active_full.active.fillna(0, inplace=True)\n",
    "\n",
    "    # Merge groups with checks. Mark as 0 users with no purchases\n",
    "    money_full = groups_full.merge(checks, how='left')\n",
    "    money_full = money_full.merge(active_studs, how='left')\n",
    "    money_full.active.fillna(0, inplace=True)\n",
    "\n",
    "    metrics = pd.DataFrame(columns=['total_users', 'active_users', 'paying_users', 'money',\n",
    "                                    'ARPU', 'ARPPU', 'ARPAU', 'CR_activity', 'CR_purchase', 'CR_activity_purchase'], \n",
    "                           index=['A', 'B'])\n",
    "    \n",
    "    metrics['total_users'] = money_full.grp.value_counts()\n",
    "    metrics['active_users'] = money_full.query('active == 1').grp.value_counts()\n",
    "    metrics['paying_users'] = money_full.query('bought == 1').grp.value_counts()\n",
    "\n",
    "    metrics['money'] = money_full.groupby('grp').rev.sum()\n",
    "    metrics['ARPU'] = metrics['money'] / metrics['total_users']\n",
    "    metrics['ARPPU'] = metrics['money'] / metrics['paying_users']\n",
    "    metrics['ARPAU'] = metrics['money'] / metrics['active_users']\n",
    "\n",
    "    metrics['CR_activity'] = metrics['active_users'] / metrics['total_users']\n",
    "    metrics['CR_purchase'] = metrics['paying_users'] / metrics['total_users']\n",
    "    metrics['CR_activity_purchase'] = metrics['paying_users'] / metrics['active_users']\n",
    "    \n",
    "    return metrics"
   ]
  },
  {
   "cell_type": "code",
   "execution_count": 49,
   "metadata": {},
   "outputs": [
    {
     "name": "stdout",
     "output_type": "stream",
     "text": [
      "column id is id column\n",
      "\n",
      "column id is not grp column\n",
      "\n",
      "column grp is not id column\n",
      "\n",
      "column grp is grp column\n",
      "\n"
     ]
    }
   ],
   "source": [
    "test = groups_add_df(groups, active_studs, checks, \"https://disk.yandex.ru/d/3aARY-P9pfaksg\")"
   ]
  },
  {
   "cell_type": "code",
   "execution_count": 50,
   "metadata": {},
   "outputs": [
    {
     "data": {
      "text/html": [
       "<div>\n",
       "<style scoped>\n",
       "    .dataframe tbody tr th:only-of-type {\n",
       "        vertical-align: middle;\n",
       "    }\n",
       "\n",
       "    .dataframe tbody tr th {\n",
       "        vertical-align: top;\n",
       "    }\n",
       "\n",
       "    .dataframe thead th {\n",
       "        text-align: right;\n",
       "    }\n",
       "</style>\n",
       "<table border=\"1\" class=\"dataframe\">\n",
       "  <thead>\n",
       "    <tr style=\"text-align: right;\">\n",
       "      <th></th>\n",
       "      <th>total_users</th>\n",
       "      <th>active_users</th>\n",
       "      <th>paying_users</th>\n",
       "      <th>money</th>\n",
       "      <th>ARPU</th>\n",
       "      <th>ARPPU</th>\n",
       "      <th>ARPAU</th>\n",
       "      <th>CR_activity</th>\n",
       "      <th>CR_purchase</th>\n",
       "      <th>CR_activity_purchase</th>\n",
       "    </tr>\n",
       "  </thead>\n",
       "  <tbody>\n",
       "    <tr>\n",
       "      <th>A</th>\n",
       "      <td>14693</td>\n",
       "      <td>1538</td>\n",
       "      <td>107</td>\n",
       "      <td>92096.0000</td>\n",
       "      <td>6.268019</td>\n",
       "      <td>860.710280</td>\n",
       "      <td>59.880364</td>\n",
       "      <td>0.104676</td>\n",
       "      <td>0.007282</td>\n",
       "      <td>0.069571</td>\n",
       "    </tr>\n",
       "    <tr>\n",
       "      <th>B</th>\n",
       "      <td>59883</td>\n",
       "      <td>6803</td>\n",
       "      <td>434</td>\n",
       "      <td>481230.0036</td>\n",
       "      <td>8.036171</td>\n",
       "      <td>1108.824893</td>\n",
       "      <td>70.737910</td>\n",
       "      <td>0.113605</td>\n",
       "      <td>0.007247</td>\n",
       "      <td>0.063795</td>\n",
       "    </tr>\n",
       "  </tbody>\n",
       "</table>\n",
       "</div>"
      ],
      "text/plain": [
       "   total_users  active_users  paying_users        money      ARPU  \\\n",
       "A        14693          1538           107   92096.0000  6.268019   \n",
       "B        59883          6803           434  481230.0036  8.036171   \n",
       "\n",
       "         ARPPU      ARPAU  CR_activity  CR_purchase  CR_activity_purchase  \n",
       "A   860.710280  59.880364     0.104676     0.007282              0.069571  \n",
       "B  1108.824893  70.737910     0.113605     0.007247              0.063795  "
      ]
     },
     "execution_count": 50,
     "metadata": {},
     "output_type": "execute_result"
    }
   ],
   "source": [
    "test"
   ]
  },
  {
   "cell_type": "code",
   "execution_count": 51,
   "metadata": {},
   "outputs": [],
   "source": [
    "def metrics_graphs(metrics):\n",
    "    fig, axes = plt.subplots(6, 1, figsize=(10, 25))\n",
    "    sns.barplot(ax=axes[0], data=metrics, x=metrics['ARPU'], y=metrics.index.values)\n",
    "    sns.barplot(ax=axes[1], data=metrics, x=metrics['ARPPU'], y=metrics.index.values)\n",
    "    sns.barplot(ax=axes[2], data=metrics, x=metrics['ARPAU'], y=metrics.index.values)\n",
    "    \n",
    "    sns.barplot(ax=axes[3], data=metrics, x=metrics['CR_activity'], y=metrics.index.values)\n",
    "    sns.barplot(ax=axes[4], data=metrics, x=metrics['CR_purchase'], y=metrics.index.values)\n",
    "    sns.barplot(ax=axes[5], data=metrics, x=metrics['CR_activity_purchase'], y=metrics.index.values)"
   ]
  },
  {
   "cell_type": "code",
   "execution_count": 52,
   "metadata": {},
   "outputs": [
    {
     "data": {
      "image/png": "[encoded data removed]",
      "text/plain": [
       "<Figure size 720x1800 with 6 Axes>"
      ]
     },
     "metadata": {},
     "output_type": "display_data"
    }
   ],
   "source": [
    "metrics_graphs(test)"
   ]
  }
 ],
 "metadata": {
  "kernelspec": {
   "display_name": "Python 3",
   "language": "python",
   "name": "python3"
  },
  "language_info": {
   "codemirror_mode": {
    "name": "ipython",
    "version": 3
   },
   "file_extension": ".py",
   "mimetype": "text/x-python",
   "name": "python",
   "nbconvert_exporter": "python",
   "pygments_lexer": "ipython3",
   "version": "3.7.3"
  }
 },
 "nbformat": 4,
 "nbformat_minor": 4
}
